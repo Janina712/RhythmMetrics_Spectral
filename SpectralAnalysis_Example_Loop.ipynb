{
  "cells": [
    {
      "cell_type": "markdown",
      "metadata": {
        "id": "view-in-github",
        "colab_type": "text"
      },
      "source": [
        "<a href=\"https://colab.research.google.com/github/Janina712/RhythmMetrics_Spectral/blob/main/SpectralAnalysis_Example_Loop.ipynb\" target=\"_parent\"><img src=\"https://colab.research.google.com/assets/colab-badge.svg\" alt=\"Open In Colab\"/></a>"
      ]
    },
    {
      "cell_type": "code",
      "execution_count": 1,
      "metadata": {
        "colab": {
          "base_uri": "https://localhost:8080/"
        },
        "id": "icCLKEVDQCvA",
        "outputId": "b1bf1d1f-4c54-4fb7-ff08-385c322d1e23"
      },
      "outputs": [
        {
          "output_type": "stream",
          "name": "stdout",
          "text": [
            "Requirement already satisfied: scipy in /usr/local/lib/python3.11/dist-packages (1.13.1)\n",
            "Requirement already satisfied: numpy<2.3,>=1.22.4 in /usr/local/lib/python3.11/dist-packages (from scipy) (1.26.4)\n"
          ]
        }
      ],
      "source": [
        "!pip install scipy"
      ]
    },
    {
      "cell_type": "code",
      "execution_count": 2,
      "metadata": {
        "colab": {
          "base_uri": "https://localhost:8080/"
        },
        "id": "KkBdu2tgQHV8",
        "outputId": "a9565ed8-1557-412b-8297-d45670bc382d"
      },
      "outputs": [
        {
          "output_type": "stream",
          "name": "stdout",
          "text": [
            "Collecting emd==0.6.2\n",
            "  Downloading emd-0.6.2-py2.py3-none-any.whl.metadata (4.7 kB)\n",
            "Requirement already satisfied: numpy>=1.19.3 in /usr/local/lib/python3.11/dist-packages (from emd==0.6.2) (1.26.4)\n",
            "Requirement already satisfied: scipy in /usr/local/lib/python3.11/dist-packages (from emd==0.6.2) (1.13.1)\n",
            "Collecting sparse (from emd==0.6.2)\n",
            "  Downloading sparse-0.15.5-py2.py3-none-any.whl.metadata (4.4 kB)\n",
            "Requirement already satisfied: matplotlib in /usr/local/lib/python3.11/dist-packages (from emd==0.6.2) (3.10.0)\n",
            "Requirement already satisfied: pandas in /usr/local/lib/python3.11/dist-packages (from emd==0.6.2) (2.2.2)\n",
            "Requirement already satisfied: pyyaml>=5.1 in /usr/local/lib/python3.11/dist-packages (from emd==0.6.2) (6.0.2)\n",
            "Requirement already satisfied: joblib in /usr/local/lib/python3.11/dist-packages (from emd==0.6.2) (1.4.2)\n",
            "Requirement already satisfied: tabulate in /usr/local/lib/python3.11/dist-packages (from emd==0.6.2) (0.9.0)\n",
            "Collecting dcor (from emd==0.6.2)\n",
            "  Downloading dcor-0.6-py3-none-any.whl.metadata (6.2 kB)\n",
            "Requirement already satisfied: numba>=0.51 in /usr/local/lib/python3.11/dist-packages (from dcor->emd==0.6.2) (0.60.0)\n",
            "Requirement already satisfied: contourpy>=1.0.1 in /usr/local/lib/python3.11/dist-packages (from matplotlib->emd==0.6.2) (1.3.1)\n",
            "Requirement already satisfied: cycler>=0.10 in /usr/local/lib/python3.11/dist-packages (from matplotlib->emd==0.6.2) (0.12.1)\n",
            "Requirement already satisfied: fonttools>=4.22.0 in /usr/local/lib/python3.11/dist-packages (from matplotlib->emd==0.6.2) (4.55.3)\n",
            "Requirement already satisfied: kiwisolver>=1.3.1 in /usr/local/lib/python3.11/dist-packages (from matplotlib->emd==0.6.2) (1.4.8)\n",
            "Requirement already satisfied: packaging>=20.0 in /usr/local/lib/python3.11/dist-packages (from matplotlib->emd==0.6.2) (24.2)\n",
            "Requirement already satisfied: pillow>=8 in /usr/local/lib/python3.11/dist-packages (from matplotlib->emd==0.6.2) (11.1.0)\n",
            "Requirement already satisfied: pyparsing>=2.3.1 in /usr/local/lib/python3.11/dist-packages (from matplotlib->emd==0.6.2) (3.2.1)\n",
            "Requirement already satisfied: python-dateutil>=2.7 in /usr/local/lib/python3.11/dist-packages (from matplotlib->emd==0.6.2) (2.8.2)\n",
            "Requirement already satisfied: pytz>=2020.1 in /usr/local/lib/python3.11/dist-packages (from pandas->emd==0.6.2) (2024.2)\n",
            "Requirement already satisfied: tzdata>=2022.7 in /usr/local/lib/python3.11/dist-packages (from pandas->emd==0.6.2) (2024.2)\n",
            "Requirement already satisfied: llvmlite<0.44,>=0.43.0dev0 in /usr/local/lib/python3.11/dist-packages (from numba>=0.51->dcor->emd==0.6.2) (0.43.0)\n",
            "Requirement already satisfied: six>=1.5 in /usr/local/lib/python3.11/dist-packages (from python-dateutil>=2.7->matplotlib->emd==0.6.2) (1.17.0)\n",
            "Downloading emd-0.6.2-py2.py3-none-any.whl (83 kB)\n",
            "\u001b[2K   \u001b[90m━━━━━━━━━━━━━━━━━━━━━━━━━━━━━━━━━━━━━━━━\u001b[0m \u001b[32m83.5/83.5 kB\u001b[0m \u001b[31m2.4 MB/s\u001b[0m eta \u001b[36m0:00:00\u001b[0m\n",
            "\u001b[?25hDownloading dcor-0.6-py3-none-any.whl (55 kB)\n",
            "\u001b[2K   \u001b[90m━━━━━━━━━━━━━━━━━━━━━━━━━━━━━━━━━━━━━━━━\u001b[0m \u001b[32m55.5/55.5 kB\u001b[0m \u001b[31m3.3 MB/s\u001b[0m eta \u001b[36m0:00:00\u001b[0m\n",
            "\u001b[?25hDownloading sparse-0.15.5-py2.py3-none-any.whl (117 kB)\n",
            "\u001b[2K   \u001b[90m━━━━━━━━━━━━━━━━━━━━━━━━━━━━━━━━━━━━━━━━\u001b[0m \u001b[32m117.4/117.4 kB\u001b[0m \u001b[31m7.9 MB/s\u001b[0m eta \u001b[36m0:00:00\u001b[0m\n",
            "\u001b[?25hInstalling collected packages: sparse, dcor, emd\n",
            "Successfully installed dcor-0.6 emd-0.6.2 sparse-0.15.5\n"
          ]
        }
      ],
      "source": [
        "!pip install emd==0.6.2"
      ]
    },
    {
      "cell_type": "code",
      "execution_count": 3,
      "metadata": {
        "id": "JOmTnBJtQHOX"
      },
      "outputs": [],
      "source": [
        "import pandas as pd\n",
        "import numpy as np\n",
        "from scipy.io import wavfile\n",
        "import matplotlib.pyplot as plt\n",
        "import matplotlib.patches as patches\n",
        "import re\n",
        "import math\n",
        "import statistics\n",
        "import emd\n",
        "from scipy import signal\n",
        "from scipy.fft import fft, fftshift, fftfreq\n",
        "import warnings\n",
        "warnings.filterwarnings('ignore')"
      ]
    },
    {
      "cell_type": "code",
      "execution_count": 17,
      "metadata": {
        "colab": {
          "base_uri": "https://localhost:8080/"
        },
        "id": "7KHJTbyeQHFy",
        "outputId": "0fff08eb-5f46-4b0f-fc47-597f513a63e3"
      },
      "outputs": [
        {
          "output_type": "stream",
          "name": "stdout",
          "text": [
            "Drive already mounted at /content/gdrive; to attempt to forcibly remount, call drive.mount(\"/content/gdrive\", force_remount=True).\n"
          ]
        }
      ],
      "source": [
        "from google.colab import drive\n",
        "drive.mount(\"/content/gdrive\")"
      ]
    },
    {
      "cell_type": "code",
      "execution_count": 25,
      "metadata": {
        "id": "7I01mAZCQbgE",
        "colab": {
          "base_uri": "https://localhost:8080/"
        },
        "outputId": "8f3d2e6c-6d01-4066-cf00-6887a3dded12"
      },
      "outputs": [
        {
          "output_type": "stream",
          "name": "stdout",
          "text": [
            "/content/gdrive/.shortcut-targets-by-id/1qo0RCBCZvuiciWPEdUPFQ2fR31kT1UeT/Aug_14_Files\n"
          ]
        }
      ],
      "source": [
        "%cd /content/gdrive/MyDrive/RhythmAnalysisPipeline/Grace/Aug_14_Files/"
      ]
    },
    {
      "cell_type": "markdown",
      "metadata": {
        "id": "Bj5FV-YoXFRI"
      },
      "source": [
        "**Load Data and Set-Up**"
      ]
    },
    {
      "cell_type": "code",
      "execution_count": 19,
      "metadata": {
        "id": "YVrr6-GUcU2A"
      },
      "outputs": [],
      "source": [
        "# participant IDs\n",
        "IDs = ['NF1122']"
      ]
    },
    {
      "cell_type": "code",
      "execution_count": 20,
      "metadata": {
        "id": "cs1alxy9Xjlb"
      },
      "outputs": [],
      "source": [
        "conds = ['frog']"
      ]
    },
    {
      "cell_type": "code",
      "execution_count": 22,
      "metadata": {
        "id": "bo7wmdYvQbcl"
      },
      "outputs": [],
      "source": [
        "# load soundfiles\n",
        "soundfiles = pd.DataFrame(columns=['ID', 'Condition', 'Fs', 'wav','t_wav'])\n",
        "for ID in IDs:\n",
        "  for cond in conds:\n",
        "    Fs, wav = wavfile.read(ID + '_' + cond + '.wav')\n",
        "    wav = wav/100000\n",
        "    soundfiles = soundfiles._append({'ID': ID, 'Condition': cond, 'Fs': Fs, 'wav': wav}, ignore_index=True)"
      ]
    },
    {
      "cell_type": "code",
      "execution_count": 26,
      "metadata": {
        "id": "KWRIGKlCdts3"
      },
      "outputs": [],
      "source": [
        "# load phrases\n",
        "phrases = pd.DataFrame(columns=['ID', 'Condition', 'Onset','Offset','Duration', 'FluencyStatus','Signal'])\n",
        "for ID in IDs:\n",
        "  for cond in conds:\n",
        "    names = []\n",
        "    conditions = []\n",
        "    duration = []\n",
        "    utterances = pd.read_csv(ID + '_' + cond + '.txt', header=None, sep='\\t')     # import txt\n",
        "    fluencies = pd.read_csv(ID + '_FS_' + cond +  '.csv')                         # import csv\n",
        "    names = list(np.repeat(ID, len(utterances)))                                  # ID column\n",
        "    conditions = list(np.repeat(cond, len(utterances)))                           # condition column\n",
        "    for k in range(len(utterances)):\n",
        "        duration.append(float(utterances[3][k]) - float(utterances[2][k]))        # duration column\n",
        "    participant = pd.DataFrame({'ID':names, 'Condition': conditions,'Onset': utterances[2], 'Offset': utterances[3], 'Duration':duration, 'FluencyStatus': fluencies['fluency status']})\n",
        "    phrases = pd.concat([phrases, participant], ignore_index=True)"
      ]
    },
    {
      "cell_type": "code",
      "execution_count": 27,
      "metadata": {
        "id": "P0wCI3EB59Y8"
      },
      "outputs": [],
      "source": [
        "get_duration = []\n",
        "for i in range(len(phrases)):\n",
        "  if (phrases['Duration'][i] < 1.0) | (phrases['Duration'][i] > 3.0):\n",
        "    continue\n",
        "  else:\n",
        "    get_duration.append(phrases[\"Duration\"][i])"
      ]
    },
    {
      "cell_type": "code",
      "execution_count": 28,
      "metadata": {
        "id": "eNgqHJK2PvYD",
        "colab": {
          "base_uri": "https://localhost:8080/"
        },
        "outputId": "449c3d49-5aa6-48bb-c030-85cd0461e048"
      },
      "outputs": [
        {
          "output_type": "execute_result",
          "data": {
            "text/plain": [
              "2.1089276898897724"
            ]
          },
          "metadata": {},
          "execution_count": 28
        }
      ],
      "source": [
        "np.mean(get_duration)"
      ]
    },
    {
      "cell_type": "code",
      "execution_count": 29,
      "metadata": {
        "id": "0S857NW6ZgnI"
      },
      "outputs": [],
      "source": [
        "# compute time axis\n",
        "for k in range(len(soundfiles)):\n",
        "  t_wav = []\n",
        "  for i in range(0,len(soundfiles['wav'][k])):\n",
        "    time = i/Fs\n",
        "    t_wav.append(time)\n",
        "  soundfiles['t_wav'][k] = t_wav"
      ]
    },
    {
      "cell_type": "code",
      "execution_count": 30,
      "metadata": {
        "id": "lvmxXcdIgNsF"
      },
      "outputs": [],
      "source": [
        "# find where utterance onset is in t_wav\n",
        "def find_nearest(array, value):\n",
        "  array = np.asarray(array)\n",
        "  idx = (np.abs(array - value)).argmin()\n",
        "  return array[idx]"
      ]
    },
    {
      "cell_type": "code",
      "execution_count": 31,
      "metadata": {
        "id": "XHWheTXOdRkD"
      },
      "outputs": [],
      "source": [
        "phrases_new = pd.DataFrame(columns=['ID', 'Condition', 'Onset','Offset','Duration', 'FluencyStatus','Signal'])\n",
        "for cond in conds:\n",
        "  soundfiles_subset = soundfiles[soundfiles[\"Condition\"]==cond]\n",
        "  soundfiles_subset.index = range(len(soundfiles_subset.index))\n",
        "  phrases_subset = phrases[phrases[\"Condition\"]==cond]\n",
        "  phrases_subset.index = range(len(phrases_subset.index))\n",
        "  for i in range(len(phrases_subset)):\n",
        "    if phrases_subset['FluencyStatus'][i] == \"Disfluent\":\n",
        "      continue\n",
        "    else:\n",
        "      if (phrases_subset['Duration'][i] < 1.0) |  (phrases_subset['Duration'][i] > 3.0):\n",
        "        continue\n",
        "      else:\n",
        "        onset_time = find_nearest(soundfiles_subset['t_wav'][0], phrases_subset['Onset'][i])\n",
        "        offset_time = find_nearest(soundfiles_subset['t_wav'][0], phrases_subset['Offset'][i])\n",
        "        onset_idx = np.where(soundfiles_subset['t_wav'][0] == onset_time)\n",
        "        onset_idx = list(onset_idx[0])[0]\n",
        "        offset_idx = np.where(soundfiles_subset['t_wav'][0] == offset_time)\n",
        "        offset_idx = list(offset_idx[0])[0]\n",
        "        phrases_subset['Signal'][i] = list(soundfiles_subset['wav'][0][onset_idx:offset_idx])\n",
        "        phrases_new = phrases_new._append({'ID':ID, 'Condition': cond, 'Onset': phrases['Onset'][i],'Offset': phrases['Offset'][i],'Duration': phrases['Duration'][i],'FluencyStatus': phrases['FluencyStatus'][i],'Signal':list(soundfiles_subset['wav'][0][onset_idx:offset_idx])}, ignore_index=True)"
      ]
    },
    {
      "cell_type": "code",
      "execution_count": 32,
      "metadata": {
        "id": "sq9qyUEhwf-e",
        "colab": {
          "base_uri": "https://localhost:8080/",
          "height": 551
        },
        "outputId": "7ce3988f-8781-48e3-be84-0d0e5363a91d"
      },
      "outputs": [
        {
          "output_type": "execute_result",
          "data": {
            "text/plain": [
              "        ID Condition      Onset     Offset  Duration FluencyStatus  \\\n",
              "0   NF1122      frog  10.336740  12.585068  2.248328        fluent   \n",
              "1   NF1122      frog  16.842627  19.208405  2.365778        fluent   \n",
              "2   NF1122      frog  20.718476  23.319155  2.600678        fluent   \n",
              "3   NF1122      frog  23.486940  26.104397  2.617457        fluent   \n",
              "4   NF1122      frog  32.206169  35.075304  2.869135        fluent   \n",
              "5   NF1122      frog  35.914232  38.716253  2.802021        fluent   \n",
              "6   NF1122      frog  39.849853  42.786103  2.936250        fluent   \n",
              "7   NF1122      frog  43.759260  45.621681  1.862421        fluent   \n",
              "8   NF1122      frog  46.217795  47.543302  1.325507        fluent   \n",
              "9   NF1122      frog  48.164109  50.345323  2.181214        fluent   \n",
              "10  NF1122      frog  51.503044  53.231237  1.728193        fluent   \n",
              "11  NF1122      frog  53.600365  55.177551  1.577185        fluent   \n",
              "12  NF1122      frog  55.731243  57.224536  1.493293        fluent   \n",
              "13  NF1122      frog  58.513865  60.460179  1.946314        fluent   \n",
              "14  NF1122      frog  61.131322  62.238707  1.107386        fluent   \n",
              "15  NF1122      frog  63.077636  65.159320  2.081684        fluent   \n",
              "\n",
              "                                               Signal  \n",
              "0   [-0.00116, -0.00114, -0.00121, -0.00124, -0.00...  \n",
              "1   [0.00052, 0.00054, 0.00055, 0.00057, 0.00053, ...  \n",
              "2   [-0.00138, -0.00146, -0.0014, -0.00142, -0.001...  \n",
              "3   [0.00024, 0.00014, 0.00017, 9e-05, 0.0, 1e-05,...  \n",
              "4   [-0.00052, -0.00056, -0.00057, -0.00058, -0.00...  \n",
              "5   [-0.00032, -0.00027, -0.00028, -0.00019, -0.00...  \n",
              "6   [-9e-05, -0.00019, -0.00028, -0.0003, -0.00041...  \n",
              "7   [-0.00105, -0.00112, -0.00132, -0.00157, -0.00...  \n",
              "8   [-0.0008, -0.00081, -0.00084, -0.0008, -0.0007...  \n",
              "9   [0.00062, 0.00071, 0.0006, 0.00054, 0.00045, 0...  \n",
              "10  [-0.00085, -0.00082, -0.0008, -0.00075, -0.000...  \n",
              "11  [-0.00117, -0.00114, -0.00116, -0.00112, -0.00...  \n",
              "12  [0.00065, 0.00055, 0.0005, 0.0004, 0.00032, 0....  \n",
              "13  [-0.00676, -0.00682, -0.00676, -0.00688, -0.00...  \n",
              "14  [-0.00056, -0.00061, -0.00058, -0.00051, -0.00...  \n",
              "15  [-0.00044, -0.00036, -0.00055, -0.00058, -0.00...  "
            ],
            "text/html": [
              "\n",
              "  <div id=\"df-44a6480b-5758-4b8f-816d-ac70f548b236\" class=\"colab-df-container\">\n",
              "    <div>\n",
              "<style scoped>\n",
              "    .dataframe tbody tr th:only-of-type {\n",
              "        vertical-align: middle;\n",
              "    }\n",
              "\n",
              "    .dataframe tbody tr th {\n",
              "        vertical-align: top;\n",
              "    }\n",
              "\n",
              "    .dataframe thead th {\n",
              "        text-align: right;\n",
              "    }\n",
              "</style>\n",
              "<table border=\"1\" class=\"dataframe\">\n",
              "  <thead>\n",
              "    <tr style=\"text-align: right;\">\n",
              "      <th></th>\n",
              "      <th>ID</th>\n",
              "      <th>Condition</th>\n",
              "      <th>Onset</th>\n",
              "      <th>Offset</th>\n",
              "      <th>Duration</th>\n",
              "      <th>FluencyStatus</th>\n",
              "      <th>Signal</th>\n",
              "    </tr>\n",
              "  </thead>\n",
              "  <tbody>\n",
              "    <tr>\n",
              "      <th>0</th>\n",
              "      <td>NF1122</td>\n",
              "      <td>frog</td>\n",
              "      <td>10.336740</td>\n",
              "      <td>12.585068</td>\n",
              "      <td>2.248328</td>\n",
              "      <td>fluent</td>\n",
              "      <td>[-0.00116, -0.00114, -0.00121, -0.00124, -0.00...</td>\n",
              "    </tr>\n",
              "    <tr>\n",
              "      <th>1</th>\n",
              "      <td>NF1122</td>\n",
              "      <td>frog</td>\n",
              "      <td>16.842627</td>\n",
              "      <td>19.208405</td>\n",
              "      <td>2.365778</td>\n",
              "      <td>fluent</td>\n",
              "      <td>[0.00052, 0.00054, 0.00055, 0.00057, 0.00053, ...</td>\n",
              "    </tr>\n",
              "    <tr>\n",
              "      <th>2</th>\n",
              "      <td>NF1122</td>\n",
              "      <td>frog</td>\n",
              "      <td>20.718476</td>\n",
              "      <td>23.319155</td>\n",
              "      <td>2.600678</td>\n",
              "      <td>fluent</td>\n",
              "      <td>[-0.00138, -0.00146, -0.0014, -0.00142, -0.001...</td>\n",
              "    </tr>\n",
              "    <tr>\n",
              "      <th>3</th>\n",
              "      <td>NF1122</td>\n",
              "      <td>frog</td>\n",
              "      <td>23.486940</td>\n",
              "      <td>26.104397</td>\n",
              "      <td>2.617457</td>\n",
              "      <td>fluent</td>\n",
              "      <td>[0.00024, 0.00014, 0.00017, 9e-05, 0.0, 1e-05,...</td>\n",
              "    </tr>\n",
              "    <tr>\n",
              "      <th>4</th>\n",
              "      <td>NF1122</td>\n",
              "      <td>frog</td>\n",
              "      <td>32.206169</td>\n",
              "      <td>35.075304</td>\n",
              "      <td>2.869135</td>\n",
              "      <td>fluent</td>\n",
              "      <td>[-0.00052, -0.00056, -0.00057, -0.00058, -0.00...</td>\n",
              "    </tr>\n",
              "    <tr>\n",
              "      <th>5</th>\n",
              "      <td>NF1122</td>\n",
              "      <td>frog</td>\n",
              "      <td>35.914232</td>\n",
              "      <td>38.716253</td>\n",
              "      <td>2.802021</td>\n",
              "      <td>fluent</td>\n",
              "      <td>[-0.00032, -0.00027, -0.00028, -0.00019, -0.00...</td>\n",
              "    </tr>\n",
              "    <tr>\n",
              "      <th>6</th>\n",
              "      <td>NF1122</td>\n",
              "      <td>frog</td>\n",
              "      <td>39.849853</td>\n",
              "      <td>42.786103</td>\n",
              "      <td>2.936250</td>\n",
              "      <td>fluent</td>\n",
              "      <td>[-9e-05, -0.00019, -0.00028, -0.0003, -0.00041...</td>\n",
              "    </tr>\n",
              "    <tr>\n",
              "      <th>7</th>\n",
              "      <td>NF1122</td>\n",
              "      <td>frog</td>\n",
              "      <td>43.759260</td>\n",
              "      <td>45.621681</td>\n",
              "      <td>1.862421</td>\n",
              "      <td>fluent</td>\n",
              "      <td>[-0.00105, -0.00112, -0.00132, -0.00157, -0.00...</td>\n",
              "    </tr>\n",
              "    <tr>\n",
              "      <th>8</th>\n",
              "      <td>NF1122</td>\n",
              "      <td>frog</td>\n",
              "      <td>46.217795</td>\n",
              "      <td>47.543302</td>\n",
              "      <td>1.325507</td>\n",
              "      <td>fluent</td>\n",
              "      <td>[-0.0008, -0.00081, -0.00084, -0.0008, -0.0007...</td>\n",
              "    </tr>\n",
              "    <tr>\n",
              "      <th>9</th>\n",
              "      <td>NF1122</td>\n",
              "      <td>frog</td>\n",
              "      <td>48.164109</td>\n",
              "      <td>50.345323</td>\n",
              "      <td>2.181214</td>\n",
              "      <td>fluent</td>\n",
              "      <td>[0.00062, 0.00071, 0.0006, 0.00054, 0.00045, 0...</td>\n",
              "    </tr>\n",
              "    <tr>\n",
              "      <th>10</th>\n",
              "      <td>NF1122</td>\n",
              "      <td>frog</td>\n",
              "      <td>51.503044</td>\n",
              "      <td>53.231237</td>\n",
              "      <td>1.728193</td>\n",
              "      <td>fluent</td>\n",
              "      <td>[-0.00085, -0.00082, -0.0008, -0.00075, -0.000...</td>\n",
              "    </tr>\n",
              "    <tr>\n",
              "      <th>11</th>\n",
              "      <td>NF1122</td>\n",
              "      <td>frog</td>\n",
              "      <td>53.600365</td>\n",
              "      <td>55.177551</td>\n",
              "      <td>1.577185</td>\n",
              "      <td>fluent</td>\n",
              "      <td>[-0.00117, -0.00114, -0.00116, -0.00112, -0.00...</td>\n",
              "    </tr>\n",
              "    <tr>\n",
              "      <th>12</th>\n",
              "      <td>NF1122</td>\n",
              "      <td>frog</td>\n",
              "      <td>55.731243</td>\n",
              "      <td>57.224536</td>\n",
              "      <td>1.493293</td>\n",
              "      <td>fluent</td>\n",
              "      <td>[0.00065, 0.00055, 0.0005, 0.0004, 0.00032, 0....</td>\n",
              "    </tr>\n",
              "    <tr>\n",
              "      <th>13</th>\n",
              "      <td>NF1122</td>\n",
              "      <td>frog</td>\n",
              "      <td>58.513865</td>\n",
              "      <td>60.460179</td>\n",
              "      <td>1.946314</td>\n",
              "      <td>fluent</td>\n",
              "      <td>[-0.00676, -0.00682, -0.00676, -0.00688, -0.00...</td>\n",
              "    </tr>\n",
              "    <tr>\n",
              "      <th>14</th>\n",
              "      <td>NF1122</td>\n",
              "      <td>frog</td>\n",
              "      <td>61.131322</td>\n",
              "      <td>62.238707</td>\n",
              "      <td>1.107386</td>\n",
              "      <td>fluent</td>\n",
              "      <td>[-0.00056, -0.00061, -0.00058, -0.00051, -0.00...</td>\n",
              "    </tr>\n",
              "    <tr>\n",
              "      <th>15</th>\n",
              "      <td>NF1122</td>\n",
              "      <td>frog</td>\n",
              "      <td>63.077636</td>\n",
              "      <td>65.159320</td>\n",
              "      <td>2.081684</td>\n",
              "      <td>fluent</td>\n",
              "      <td>[-0.00044, -0.00036, -0.00055, -0.00058, -0.00...</td>\n",
              "    </tr>\n",
              "  </tbody>\n",
              "</table>\n",
              "</div>\n",
              "    <div class=\"colab-df-buttons\">\n",
              "\n",
              "  <div class=\"colab-df-container\">\n",
              "    <button class=\"colab-df-convert\" onclick=\"convertToInteractive('df-44a6480b-5758-4b8f-816d-ac70f548b236')\"\n",
              "            title=\"Convert this dataframe to an interactive table.\"\n",
              "            style=\"display:none;\">\n",
              "\n",
              "  <svg xmlns=\"http://www.w3.org/2000/svg\" height=\"24px\" viewBox=\"0 -960 960 960\">\n",
              "    <path d=\"M120-120v-720h720v720H120Zm60-500h600v-160H180v160Zm220 220h160v-160H400v160Zm0 220h160v-160H400v160ZM180-400h160v-160H180v160Zm440 0h160v-160H620v160ZM180-180h160v-160H180v160Zm440 0h160v-160H620v160Z\"/>\n",
              "  </svg>\n",
              "    </button>\n",
              "\n",
              "  <style>\n",
              "    .colab-df-container {\n",
              "      display:flex;\n",
              "      gap: 12px;\n",
              "    }\n",
              "\n",
              "    .colab-df-convert {\n",
              "      background-color: #E8F0FE;\n",
              "      border: none;\n",
              "      border-radius: 50%;\n",
              "      cursor: pointer;\n",
              "      display: none;\n",
              "      fill: #1967D2;\n",
              "      height: 32px;\n",
              "      padding: 0 0 0 0;\n",
              "      width: 32px;\n",
              "    }\n",
              "\n",
              "    .colab-df-convert:hover {\n",
              "      background-color: #E2EBFA;\n",
              "      box-shadow: 0px 1px 2px rgba(60, 64, 67, 0.3), 0px 1px 3px 1px rgba(60, 64, 67, 0.15);\n",
              "      fill: #174EA6;\n",
              "    }\n",
              "\n",
              "    .colab-df-buttons div {\n",
              "      margin-bottom: 4px;\n",
              "    }\n",
              "\n",
              "    [theme=dark] .colab-df-convert {\n",
              "      background-color: #3B4455;\n",
              "      fill: #D2E3FC;\n",
              "    }\n",
              "\n",
              "    [theme=dark] .colab-df-convert:hover {\n",
              "      background-color: #434B5C;\n",
              "      box-shadow: 0px 1px 3px 1px rgba(0, 0, 0, 0.15);\n",
              "      filter: drop-shadow(0px 1px 2px rgba(0, 0, 0, 0.3));\n",
              "      fill: #FFFFFF;\n",
              "    }\n",
              "  </style>\n",
              "\n",
              "    <script>\n",
              "      const buttonEl =\n",
              "        document.querySelector('#df-44a6480b-5758-4b8f-816d-ac70f548b236 button.colab-df-convert');\n",
              "      buttonEl.style.display =\n",
              "        google.colab.kernel.accessAllowed ? 'block' : 'none';\n",
              "\n",
              "      async function convertToInteractive(key) {\n",
              "        const element = document.querySelector('#df-44a6480b-5758-4b8f-816d-ac70f548b236');\n",
              "        const dataTable =\n",
              "          await google.colab.kernel.invokeFunction('convertToInteractive',\n",
              "                                                    [key], {});\n",
              "        if (!dataTable) return;\n",
              "\n",
              "        const docLinkHtml = 'Like what you see? Visit the ' +\n",
              "          '<a target=\"_blank\" href=https://colab.research.google.com/notebooks/data_table.ipynb>data table notebook</a>'\n",
              "          + ' to learn more about interactive tables.';\n",
              "        element.innerHTML = '';\n",
              "        dataTable['output_type'] = 'display_data';\n",
              "        await google.colab.output.renderOutput(dataTable, element);\n",
              "        const docLink = document.createElement('div');\n",
              "        docLink.innerHTML = docLinkHtml;\n",
              "        element.appendChild(docLink);\n",
              "      }\n",
              "    </script>\n",
              "  </div>\n",
              "\n",
              "\n",
              "<div id=\"df-e93f1d55-276e-4e8c-a0c6-d81dc6a4453f\">\n",
              "  <button class=\"colab-df-quickchart\" onclick=\"quickchart('df-e93f1d55-276e-4e8c-a0c6-d81dc6a4453f')\"\n",
              "            title=\"Suggest charts\"\n",
              "            style=\"display:none;\">\n",
              "\n",
              "<svg xmlns=\"http://www.w3.org/2000/svg\" height=\"24px\"viewBox=\"0 0 24 24\"\n",
              "     width=\"24px\">\n",
              "    <g>\n",
              "        <path d=\"M19 3H5c-1.1 0-2 .9-2 2v14c0 1.1.9 2 2 2h14c1.1 0 2-.9 2-2V5c0-1.1-.9-2-2-2zM9 17H7v-7h2v7zm4 0h-2V7h2v10zm4 0h-2v-4h2v4z\"/>\n",
              "    </g>\n",
              "</svg>\n",
              "  </button>\n",
              "\n",
              "<style>\n",
              "  .colab-df-quickchart {\n",
              "      --bg-color: #E8F0FE;\n",
              "      --fill-color: #1967D2;\n",
              "      --hover-bg-color: #E2EBFA;\n",
              "      --hover-fill-color: #174EA6;\n",
              "      --disabled-fill-color: #AAA;\n",
              "      --disabled-bg-color: #DDD;\n",
              "  }\n",
              "\n",
              "  [theme=dark] .colab-df-quickchart {\n",
              "      --bg-color: #3B4455;\n",
              "      --fill-color: #D2E3FC;\n",
              "      --hover-bg-color: #434B5C;\n",
              "      --hover-fill-color: #FFFFFF;\n",
              "      --disabled-bg-color: #3B4455;\n",
              "      --disabled-fill-color: #666;\n",
              "  }\n",
              "\n",
              "  .colab-df-quickchart {\n",
              "    background-color: var(--bg-color);\n",
              "    border: none;\n",
              "    border-radius: 50%;\n",
              "    cursor: pointer;\n",
              "    display: none;\n",
              "    fill: var(--fill-color);\n",
              "    height: 32px;\n",
              "    padding: 0;\n",
              "    width: 32px;\n",
              "  }\n",
              "\n",
              "  .colab-df-quickchart:hover {\n",
              "    background-color: var(--hover-bg-color);\n",
              "    box-shadow: 0 1px 2px rgba(60, 64, 67, 0.3), 0 1px 3px 1px rgba(60, 64, 67, 0.15);\n",
              "    fill: var(--button-hover-fill-color);\n",
              "  }\n",
              "\n",
              "  .colab-df-quickchart-complete:disabled,\n",
              "  .colab-df-quickchart-complete:disabled:hover {\n",
              "    background-color: var(--disabled-bg-color);\n",
              "    fill: var(--disabled-fill-color);\n",
              "    box-shadow: none;\n",
              "  }\n",
              "\n",
              "  .colab-df-spinner {\n",
              "    border: 2px solid var(--fill-color);\n",
              "    border-color: transparent;\n",
              "    border-bottom-color: var(--fill-color);\n",
              "    animation:\n",
              "      spin 1s steps(1) infinite;\n",
              "  }\n",
              "\n",
              "  @keyframes spin {\n",
              "    0% {\n",
              "      border-color: transparent;\n",
              "      border-bottom-color: var(--fill-color);\n",
              "      border-left-color: var(--fill-color);\n",
              "    }\n",
              "    20% {\n",
              "      border-color: transparent;\n",
              "      border-left-color: var(--fill-color);\n",
              "      border-top-color: var(--fill-color);\n",
              "    }\n",
              "    30% {\n",
              "      border-color: transparent;\n",
              "      border-left-color: var(--fill-color);\n",
              "      border-top-color: var(--fill-color);\n",
              "      border-right-color: var(--fill-color);\n",
              "    }\n",
              "    40% {\n",
              "      border-color: transparent;\n",
              "      border-right-color: var(--fill-color);\n",
              "      border-top-color: var(--fill-color);\n",
              "    }\n",
              "    60% {\n",
              "      border-color: transparent;\n",
              "      border-right-color: var(--fill-color);\n",
              "    }\n",
              "    80% {\n",
              "      border-color: transparent;\n",
              "      border-right-color: var(--fill-color);\n",
              "      border-bottom-color: var(--fill-color);\n",
              "    }\n",
              "    90% {\n",
              "      border-color: transparent;\n",
              "      border-bottom-color: var(--fill-color);\n",
              "    }\n",
              "  }\n",
              "</style>\n",
              "\n",
              "  <script>\n",
              "    async function quickchart(key) {\n",
              "      const quickchartButtonEl =\n",
              "        document.querySelector('#' + key + ' button');\n",
              "      quickchartButtonEl.disabled = true;  // To prevent multiple clicks.\n",
              "      quickchartButtonEl.classList.add('colab-df-spinner');\n",
              "      try {\n",
              "        const charts = await google.colab.kernel.invokeFunction(\n",
              "            'suggestCharts', [key], {});\n",
              "      } catch (error) {\n",
              "        console.error('Error during call to suggestCharts:', error);\n",
              "      }\n",
              "      quickchartButtonEl.classList.remove('colab-df-spinner');\n",
              "      quickchartButtonEl.classList.add('colab-df-quickchart-complete');\n",
              "    }\n",
              "    (() => {\n",
              "      let quickchartButtonEl =\n",
              "        document.querySelector('#df-e93f1d55-276e-4e8c-a0c6-d81dc6a4453f button');\n",
              "      quickchartButtonEl.style.display =\n",
              "        google.colab.kernel.accessAllowed ? 'block' : 'none';\n",
              "    })();\n",
              "  </script>\n",
              "</div>\n",
              "\n",
              "  <div id=\"id_edca7b29-214f-4f1e-8adc-362a6063e94e\">\n",
              "    <style>\n",
              "      .colab-df-generate {\n",
              "        background-color: #E8F0FE;\n",
              "        border: none;\n",
              "        border-radius: 50%;\n",
              "        cursor: pointer;\n",
              "        display: none;\n",
              "        fill: #1967D2;\n",
              "        height: 32px;\n",
              "        padding: 0 0 0 0;\n",
              "        width: 32px;\n",
              "      }\n",
              "\n",
              "      .colab-df-generate:hover {\n",
              "        background-color: #E2EBFA;\n",
              "        box-shadow: 0px 1px 2px rgba(60, 64, 67, 0.3), 0px 1px 3px 1px rgba(60, 64, 67, 0.15);\n",
              "        fill: #174EA6;\n",
              "      }\n",
              "\n",
              "      [theme=dark] .colab-df-generate {\n",
              "        background-color: #3B4455;\n",
              "        fill: #D2E3FC;\n",
              "      }\n",
              "\n",
              "      [theme=dark] .colab-df-generate:hover {\n",
              "        background-color: #434B5C;\n",
              "        box-shadow: 0px 1px 3px 1px rgba(0, 0, 0, 0.15);\n",
              "        filter: drop-shadow(0px 1px 2px rgba(0, 0, 0, 0.3));\n",
              "        fill: #FFFFFF;\n",
              "      }\n",
              "    </style>\n",
              "    <button class=\"colab-df-generate\" onclick=\"generateWithVariable('phrases_new')\"\n",
              "            title=\"Generate code using this dataframe.\"\n",
              "            style=\"display:none;\">\n",
              "\n",
              "  <svg xmlns=\"http://www.w3.org/2000/svg\" height=\"24px\"viewBox=\"0 0 24 24\"\n",
              "       width=\"24px\">\n",
              "    <path d=\"M7,19H8.4L18.45,9,17,7.55,7,17.6ZM5,21V16.75L18.45,3.32a2,2,0,0,1,2.83,0l1.4,1.43a1.91,1.91,0,0,1,.58,1.4,1.91,1.91,0,0,1-.58,1.4L9.25,21ZM18.45,9,17,7.55Zm-12,3A5.31,5.31,0,0,0,4.9,8.1,5.31,5.31,0,0,0,1,6.5,5.31,5.31,0,0,0,4.9,4.9,5.31,5.31,0,0,0,6.5,1,5.31,5.31,0,0,0,8.1,4.9,5.31,5.31,0,0,0,12,6.5,5.46,5.46,0,0,0,6.5,12Z\"/>\n",
              "  </svg>\n",
              "    </button>\n",
              "    <script>\n",
              "      (() => {\n",
              "      const buttonEl =\n",
              "        document.querySelector('#id_edca7b29-214f-4f1e-8adc-362a6063e94e button.colab-df-generate');\n",
              "      buttonEl.style.display =\n",
              "        google.colab.kernel.accessAllowed ? 'block' : 'none';\n",
              "\n",
              "      buttonEl.onclick = () => {\n",
              "        google.colab.notebook.generateWithVariable('phrases_new');\n",
              "      }\n",
              "      })();\n",
              "    </script>\n",
              "  </div>\n",
              "\n",
              "    </div>\n",
              "  </div>\n"
            ],
            "application/vnd.google.colaboratory.intrinsic+json": {
              "type": "dataframe",
              "variable_name": "phrases_new",
              "summary": "{\n  \"name\": \"phrases_new\",\n  \"rows\": 16,\n  \"fields\": [\n    {\n      \"column\": \"ID\",\n      \"properties\": {\n        \"dtype\": \"category\",\n        \"num_unique_values\": 1,\n        \"samples\": [\n          \"NF1122\"\n        ],\n        \"semantic_type\": \"\",\n        \"description\": \"\"\n      }\n    },\n    {\n      \"column\": \"Condition\",\n      \"properties\": {\n        \"dtype\": \"category\",\n        \"num_unique_values\": 1,\n        \"samples\": [\n          \"frog\"\n        ],\n        \"semantic_type\": \"\",\n        \"description\": \"\"\n      }\n    },\n    {\n      \"column\": \"Onset\",\n      \"properties\": {\n        \"dtype\": \"number\",\n        \"std\": 16.565965814194083,\n        \"min\": 10.336739851444062,\n        \"max\": 63.07763562404694,\n        \"num_unique_values\": 16,\n        \"samples\": [\n          10.336739851444062\n        ],\n        \"semantic_type\": \"\",\n        \"description\": \"\"\n      }\n    },\n    {\n      \"column\": \"Offset\",\n      \"properties\": {\n        \"dtype\": \"number\",\n        \"std\": 16.21730193897723,\n        \"min\": 12.585068042863533,\n        \"max\": 65.15931972789116,\n        \"num_unique_values\": 16,\n        \"samples\": [\n          12.585068042863533\n        ],\n        \"semantic_type\": \"\",\n        \"description\": \"\"\n      }\n    },\n    {\n      \"column\": \"Duration\",\n      \"properties\": {\n        \"dtype\": \"number\",\n        \"std\": 0.5683488791248265,\n        \"min\": 1.107385527117053,\n        \"max\": 2.9362495037194662,\n        \"num_unique_values\": 16,\n        \"samples\": [\n          2.2483281914194713\n        ],\n        \"semantic_type\": \"\",\n        \"description\": \"\"\n      }\n    },\n    {\n      \"column\": \"FluencyStatus\",\n      \"properties\": {\n        \"dtype\": \"category\",\n        \"num_unique_values\": 1,\n        \"samples\": [\n          \"fluent\"\n        ],\n        \"semantic_type\": \"\",\n        \"description\": \"\"\n      }\n    },\n    {\n      \"column\": \"Signal\",\n      \"properties\": {\n        \"dtype\": \"object\",\n        \"semantic_type\": \"\",\n        \"description\": \"\"\n      }\n    }\n  ]\n}"
            }
          },
          "metadata": {},
          "execution_count": 32
        }
      ],
      "source": [
        "phrases_new"
      ]
    },
    {
      "cell_type": "markdown",
      "metadata": {
        "id": "9fiNlmCMQyvb"
      },
      "source": [
        "# **I. Preprocessing**"
      ]
    },
    {
      "cell_type": "code",
      "execution_count": 33,
      "metadata": {
        "id": "nJKx6cmhb2xn"
      },
      "outputs": [],
      "source": [
        "# bandpass filter\n",
        "lower_cutoff = 400\n",
        "upper_cutoff = 4000\n",
        "order = 4\n",
        "bp_b, bp_a = signal.butter(order, [lower_cutoff, upper_cutoff], 'bp', fs=Fs)"
      ]
    },
    {
      "cell_type": "code",
      "execution_count": 34,
      "metadata": {
        "id": "8c6vWh5ycTbA"
      },
      "outputs": [],
      "source": [
        "# syllabic filter\n",
        "order = 4\n",
        "cutoff = 10\n",
        "syll_b, syll_a = signal.butter(order, cutoff, 'lp', fs=Fs)"
      ]
    },
    {
      "cell_type": "code",
      "execution_count": 35,
      "metadata": {
        "id": "_cJ5Ww1oc3jV"
      },
      "outputs": [],
      "source": [
        "# down-sample parameters\n",
        "original_rate = 44100\n",
        "new_rate = original_rate/100"
      ]
    },
    {
      "cell_type": "code",
      "execution_count": 36,
      "metadata": {
        "id": "1NrohxCTmHMJ",
        "colab": {
          "base_uri": "https://localhost:8080/"
        },
        "outputId": "9131fd6d-aa7d-49ba-c4fd-d2ad9efdb690"
      },
      "outputs": [
        {
          "output_type": "execute_result",
          "data": {
            "text/plain": [
              "9"
            ]
          },
          "metadata": {},
          "execution_count": 36
        }
      ],
      "source": [
        "len(bp_a)"
      ]
    },
    {
      "cell_type": "code",
      "execution_count": 37,
      "metadata": {
        "id": "Bqr6ya61bTGj"
      },
      "outputs": [],
      "source": [
        "# pre-process\n",
        "preprocessed_signals = pd.DataFrame(columns=['Duration', 'Signal'])\n",
        "for i in range(len(phrases_new)):\n",
        "  wav_dc = phrases_new['Signal'][i] - (sum(phrases_new['Signal'][i])/len(phrases_new['Signal'][i]))       # remove DC frequency\n",
        "  filtered = signal.filtfilt(bp_b, bp_a, wav_dc)                            # bandpass filter\n",
        "  new_filtered = abs(filtered)                                              # get magnitude (power)\n",
        "  syll = signal.filtfilt(syll_b,syll_a, new_filtered)                       # apply syllabic filter\n",
        "  sig_dc = syll - syll.mean()                                               # remove DC frequency (again)\n",
        "  number_of_samples = round(len(sig_dc) * float(new_rate) /Fs)              # down-sample signal\n",
        "  sig_down = signal.resample(sig_dc, number_of_samples)                     # down-sample signal\n",
        "  avg2norm = (sum(sig_down))/len(sig_down)                                  # normalize\n",
        "  intermediate = sig_down - avg2norm                                        # normalize\n",
        "  norm_signal = intermediate/max(intermediate)                              # normalize\n",
        "  M = len(norm_signal)                                                      # construct Tukey\n",
        "  window = signal.windows.tukey(M, alpha = 0.2)                             # construct Tukey\n",
        "  wind_signal = window*norm_signal                                          # apply Tukey\n",
        "  preprocessed_signals = preprocessed_signals._append({'Duration': phrases_new['Duration'][i], 'Signal': wind_signal}, ignore_index=True)"
      ]
    },
    {
      "cell_type": "markdown",
      "metadata": {
        "id": "6gO1Kw01vvCv"
      },
      "source": [
        "# **II. Envelope Spectral Analysis (ESA)**"
      ]
    },
    {
      "cell_type": "code",
      "execution_count": 38,
      "metadata": {
        "id": "hL5QT2Rfvxb2"
      },
      "outputs": [],
      "source": [
        "ESA_signals = pd.DataFrame(columns=['Duration', 'Signal','Time_Axis'])\n",
        "for i in range(len(preprocessed_signals)):\n",
        "  power_2 = 2**12                                                         # zero-pad\n",
        "  to_add = int((power_2 - len(preprocessed_signals['Signal'][i])/2))\n",
        "  right = np.append(preprocessed_signals['Signal'][i], [0]*to_add)\n",
        "  left= np.insert(right, 0, [0]*to_add)\n",
        "  zero_pad = left\n",
        "  fourier = fft(zero_pad)                                                 # calculate amplitude spectrum\n",
        "  xf = np.fft.fftfreq(len(zero_pad), (1/new_rate))\n",
        "  power = (abs(fourier)**2)/len(fourier)                                  # get power\n",
        "  norm_spec = power*2                                                     # double positive frequencies\n",
        "  N = len(norm_spec)                                                      # cancel out negative frequencies\n",
        "  power = np.abs(norm_spec[0:N//2])\n",
        "  # adjust frequency axis\n",
        "  T = 1/new_rate\n",
        "  xf = fftfreq(N, T)[:N//2]\n",
        "  power_sym = np.concatenate((np.flipud(power), power, np.flipud(power))) # center spectrum over 0 and N\n",
        "  bin_size = 1                                                            # set parameters\n",
        "  L = round(len(zero_pad)*bin_size/new_rate)\n",
        "  smpsd = signal.lfilter((1/L)*np.ones(L),1,power_sym)                    # apply moving average\n",
        "  smpsd = smpsd[int((N/2)+1):int((N/2)+(N/2))]\n",
        "  ESA_signals = ESA_signals._append({'Duration': phrases_new['Duration'][i], 'Signal': smpsd,'Time_Axis': xf}, ignore_index=True)"
      ]
    },
    {
      "cell_type": "markdown",
      "metadata": {
        "id": "s6M8ioc2x3kp"
      },
      "source": [
        "# **III. Empirical Mode Decomposition**"
      ]
    },
    {
      "cell_type": "code",
      "execution_count": 39,
      "metadata": {
        "id": "spzKxBJmzSWI"
      },
      "outputs": [],
      "source": [
        "def remove_outliers(IF):\n",
        "  upper = IF.mean() + 3*IF.std()\n",
        "  lower = IF.mean() - 3*IF.std()\n",
        "  IF_no = IF\n",
        "  for i in range(0,len(IF_no)):\n",
        "    if IF[i] > upper:\n",
        "      np.delete(IF_no,i, 0)\n",
        "    elif IF[i] < lower:\n",
        "      np.delete(IF_no,i,0)\n",
        "    else:\n",
        "      continue\n",
        "  return IF_no"
      ]
    },
    {
      "cell_type": "code",
      "execution_count": 40,
      "metadata": {
        "id": "0TyxGCAJvxSG"
      },
      "outputs": [],
      "source": [
        "EMD_signals = pd.DataFrame(columns=['Duration', 'IMF1','IMF2', 'IA1','IA2'])\n",
        "for i in range(len(preprocessed_signals)):\n",
        "  imf = emd.sift.sift(preprocessed_signals['Signal'][i], max_imfs=4)                        # extract IMFs\n",
        "  analytic_signal_1 = signal.hilbert(imf[:,0])                                              # Hilbert Transform\n",
        "  analytic_signal_2 = signal.hilbert(imf[:,1])\n",
        "  amplitude_envelope_1 = np.abs(analytic_signal_1)                                          # IA\n",
        "  amplitude_envelope_2 = np.abs(analytic_signal_2)\n",
        "  instantaneous_phase_1 = np.unwrap(np.angle(analytic_signal_1))                            # IP\n",
        "  instantaneous_phase_2 = np.unwrap(np.angle(analytic_signal_2))\n",
        "  instantaneous_frequency_1 = new_rate/(2.0 * np.pi) * np.gradient(instantaneous_phase_1)   # IF\n",
        "  instantaneous_frequency_2 = new_rate/(2.0 * np.pi) * np.gradient(instantaneous_phase_2)\n",
        "  IF_no_1 = remove_outliers(instantaneous_frequency_1)                                      # remove outliers\n",
        "  IF_no_2 = remove_outliers(instantaneous_frequency_2)\n",
        "  edge = round(new_rate/10)                                                                 # remove 100 ms from edges\n",
        "  instantaneous_frequency_1_processed = IF_no_1[edge:len(IF_no_1)-edge]                     # remove edges from IFs\n",
        "  instantaneous_frequency_2_processed = IF_no_2[edge:len(IF_no_2)-edge]\n",
        "  amplitude_envelope_1_processed = amplitude_envelope_1[edge:len(IF_no_1)-edge]             # remove edges from IAs\n",
        "  amplitude_envelope_2_processed = amplitude_envelope_2[edge:len(IF_no_2)-edge]\n",
        "  EMD_signals = EMD_signals._append({'Duration': phrases_new['Duration'][i], 'IMF1': instantaneous_frequency_1_processed, 'IMF2': instantaneous_frequency_2_processed, 'IA1': amplitude_envelope_1_processed , 'IA2': amplitude_envelope_2_processed}, ignore_index=True)"
      ]
    },
    {
      "cell_type": "markdown",
      "metadata": {
        "id": "7e_G-3D62vY6"
      },
      "source": [
        "# **IV. Rhythm Metrics**"
      ]
    },
    {
      "cell_type": "code",
      "execution_count": 41,
      "metadata": {
        "id": "oa2wbY_9zOVr"
      },
      "outputs": [],
      "source": [
        "metric_results = pd.DataFrame(columns=['Duration', 'SBPr','CNTR','IMFr','IMF1_rate','IMF2_rate','IMF1_stability','IMF2_stability'])\n",
        "for i in range(len(ESA_signals)):\n",
        "  supra_idx = np.where((ESA_signals['Time_Axis'][i] >= 1) & (ESA_signals['Time_Axis'][i] <= 3.5))[0]                # Spectral Band Power Ratio\n",
        "  syll_idx = np.where((ESA_signals['Time_Axis'][i] > 3.5) & (ESA_signals['Time_Axis'][i] <= 10))[0]\n",
        "  supra_power = []\n",
        "  syll_power = []\n",
        "\n",
        "  for w in range(0,len(supra_idx)):\n",
        "    supra_power.append(ESA_signals['Signal'][i][supra_idx[w]])\n",
        "  supra = sum(supra_power)\n",
        "\n",
        "  for j in range(0,len(syll_idx)):\n",
        "    syll_power.append(ESA_signals['Signal'][i][syll_idx[j]])\n",
        "  syll = sum(syll_power)\n",
        "  SBR_3_0 = supra/syll\n",
        "\n",
        "  central_idx = np.where((ESA_signals['Time_Axis'][i] >= 1) & (ESA_signals['Time_Axis'][i] <= 10))[0]               # Envelope Spectral Centroid\n",
        "  current_sum = 0\n",
        "  for t in range(0,len(central_idx)):\n",
        "    current_sum = current_sum + (ESA_signals['Time_Axis'][i][central_idx[t]] * ESA_signals['Signal'][i][central_idx[t]])\n",
        "  power_sum = 0\n",
        "  for m in range(0,len(central_idx)):\n",
        "    power_sum = power_sum + ESA_signals['Signal'][i][central_idx[m]]\n",
        "  CNTR = current_sum/power_sum\n",
        "\n",
        "  imf1_power = []                                                 # IMF Ratio\n",
        "  imf2_power = []\n",
        "\n",
        "  for k in range(0,len(EMD_signals[\"IA1\"][i])): #IMF1\n",
        "    imf1_power.append(EMD_signals[\"IA1\"][i][k])\n",
        "  imf1 = sum(imf1_power)\n",
        "\n",
        "  for j in range(0,len(EMD_signals[\"IA2\"][i])):\n",
        "    imf2_power.append(EMD_signals[\"IA2\"][i][j])\n",
        "  imf2 = sum(imf2_power)\n",
        "  IMFr = imf2/imf1\n",
        "\n",
        "  IMF1_rate = sum(EMD_signals[\"IMF1\"][i])/len(EMD_signals[\"IMF1\"][i])                         # IMF1 Rate\n",
        "  IMF2_rate = sum(EMD_signals[\"IMF2\"][i])/len(EMD_signals[\"IMF2\"][i])                         # IMF2 Rate\n",
        "\n",
        "  IMF1_stab = statistics.variance(EMD_signals[\"IMF1\"][i])                      # IMF1 Stability\n",
        "  IMF2_stab = statistics.variance(EMD_signals[\"IMF2\"][i])                      # IMF2 Stability\n",
        "\n",
        "  metric_results = metric_results._append({'Duration': phrases_new['Duration'][i], 'SBPr': SBR_3_0,'CNTR': CNTR,'IMFr': IMFr,'IMF1_rate': IMF1_rate,'IMF2_rate': IMF2_rate,'IMF1_stability': IMF1_stab,'IMF2_stability':IMF2_stab}, ignore_index = True)"
      ]
    },
    {
      "cell_type": "code",
      "execution_count": 42,
      "metadata": {
        "id": "ZJCsg2nBLmlJ",
        "colab": {
          "base_uri": "https://localhost:8080/"
        },
        "outputId": "c9f04aac-a23e-449d-c18a-6fea9f2c3668"
      },
      "outputs": [
        {
          "output_type": "stream",
          "name": "stdout",
          "text": [
            "['NF1122']\n",
            "['frog']\n"
          ]
        }
      ],
      "source": [
        "print(IDs)\n",
        "print(conds)"
      ]
    },
    {
      "cell_type": "code",
      "execution_count": 43,
      "metadata": {
        "id": "4gk31pOrzOQz",
        "colab": {
          "base_uri": "https://localhost:8080/",
          "height": 89
        },
        "outputId": "76b2e54f-1f6f-49a0-b48d-628dbf529f56"
      },
      "outputs": [
        {
          "output_type": "execute_result",
          "data": {
            "text/plain": [
              "   Duration     SBPr      CNTR      IMFr  IMF1_rate  IMF2_rate  \\\n",
              "0  2.108928  3.16603  2.988762  1.561236   4.710929   2.519324   \n",
              "\n",
              "   IMF1_stability  IMF2_stability  \n",
              "0       35.829391        5.028479  "
            ],
            "text/html": [
              "\n",
              "  <div id=\"df-5a590a6e-9519-420a-b31e-85388babf1a6\" class=\"colab-df-container\">\n",
              "    <div>\n",
              "<style scoped>\n",
              "    .dataframe tbody tr th:only-of-type {\n",
              "        vertical-align: middle;\n",
              "    }\n",
              "\n",
              "    .dataframe tbody tr th {\n",
              "        vertical-align: top;\n",
              "    }\n",
              "\n",
              "    .dataframe thead th {\n",
              "        text-align: right;\n",
              "    }\n",
              "</style>\n",
              "<table border=\"1\" class=\"dataframe\">\n",
              "  <thead>\n",
              "    <tr style=\"text-align: right;\">\n",
              "      <th></th>\n",
              "      <th>Duration</th>\n",
              "      <th>SBPr</th>\n",
              "      <th>CNTR</th>\n",
              "      <th>IMFr</th>\n",
              "      <th>IMF1_rate</th>\n",
              "      <th>IMF2_rate</th>\n",
              "      <th>IMF1_stability</th>\n",
              "      <th>IMF2_stability</th>\n",
              "    </tr>\n",
              "  </thead>\n",
              "  <tbody>\n",
              "    <tr>\n",
              "      <th>0</th>\n",
              "      <td>2.108928</td>\n",
              "      <td>3.16603</td>\n",
              "      <td>2.988762</td>\n",
              "      <td>1.561236</td>\n",
              "      <td>4.710929</td>\n",
              "      <td>2.519324</td>\n",
              "      <td>35.829391</td>\n",
              "      <td>5.028479</td>\n",
              "    </tr>\n",
              "  </tbody>\n",
              "</table>\n",
              "</div>\n",
              "    <div class=\"colab-df-buttons\">\n",
              "\n",
              "  <div class=\"colab-df-container\">\n",
              "    <button class=\"colab-df-convert\" onclick=\"convertToInteractive('df-5a590a6e-9519-420a-b31e-85388babf1a6')\"\n",
              "            title=\"Convert this dataframe to an interactive table.\"\n",
              "            style=\"display:none;\">\n",
              "\n",
              "  <svg xmlns=\"http://www.w3.org/2000/svg\" height=\"24px\" viewBox=\"0 -960 960 960\">\n",
              "    <path d=\"M120-120v-720h720v720H120Zm60-500h600v-160H180v160Zm220 220h160v-160H400v160Zm0 220h160v-160H400v160ZM180-400h160v-160H180v160Zm440 0h160v-160H620v160ZM180-180h160v-160H180v160Zm440 0h160v-160H620v160Z\"/>\n",
              "  </svg>\n",
              "    </button>\n",
              "\n",
              "  <style>\n",
              "    .colab-df-container {\n",
              "      display:flex;\n",
              "      gap: 12px;\n",
              "    }\n",
              "\n",
              "    .colab-df-convert {\n",
              "      background-color: #E8F0FE;\n",
              "      border: none;\n",
              "      border-radius: 50%;\n",
              "      cursor: pointer;\n",
              "      display: none;\n",
              "      fill: #1967D2;\n",
              "      height: 32px;\n",
              "      padding: 0 0 0 0;\n",
              "      width: 32px;\n",
              "    }\n",
              "\n",
              "    .colab-df-convert:hover {\n",
              "      background-color: #E2EBFA;\n",
              "      box-shadow: 0px 1px 2px rgba(60, 64, 67, 0.3), 0px 1px 3px 1px rgba(60, 64, 67, 0.15);\n",
              "      fill: #174EA6;\n",
              "    }\n",
              "\n",
              "    .colab-df-buttons div {\n",
              "      margin-bottom: 4px;\n",
              "    }\n",
              "\n",
              "    [theme=dark] .colab-df-convert {\n",
              "      background-color: #3B4455;\n",
              "      fill: #D2E3FC;\n",
              "    }\n",
              "\n",
              "    [theme=dark] .colab-df-convert:hover {\n",
              "      background-color: #434B5C;\n",
              "      box-shadow: 0px 1px 3px 1px rgba(0, 0, 0, 0.15);\n",
              "      filter: drop-shadow(0px 1px 2px rgba(0, 0, 0, 0.3));\n",
              "      fill: #FFFFFF;\n",
              "    }\n",
              "  </style>\n",
              "\n",
              "    <script>\n",
              "      const buttonEl =\n",
              "        document.querySelector('#df-5a590a6e-9519-420a-b31e-85388babf1a6 button.colab-df-convert');\n",
              "      buttonEl.style.display =\n",
              "        google.colab.kernel.accessAllowed ? 'block' : 'none';\n",
              "\n",
              "      async function convertToInteractive(key) {\n",
              "        const element = document.querySelector('#df-5a590a6e-9519-420a-b31e-85388babf1a6');\n",
              "        const dataTable =\n",
              "          await google.colab.kernel.invokeFunction('convertToInteractive',\n",
              "                                                    [key], {});\n",
              "        if (!dataTable) return;\n",
              "\n",
              "        const docLinkHtml = 'Like what you see? Visit the ' +\n",
              "          '<a target=\"_blank\" href=https://colab.research.google.com/notebooks/data_table.ipynb>data table notebook</a>'\n",
              "          + ' to learn more about interactive tables.';\n",
              "        element.innerHTML = '';\n",
              "        dataTable['output_type'] = 'display_data';\n",
              "        await google.colab.output.renderOutput(dataTable, element);\n",
              "        const docLink = document.createElement('div');\n",
              "        docLink.innerHTML = docLinkHtml;\n",
              "        element.appendChild(docLink);\n",
              "      }\n",
              "    </script>\n",
              "  </div>\n",
              "\n",
              "\n",
              "  <div id=\"id_48dd4b4c-7a00-4020-a9b7-cb3ee7e1f539\">\n",
              "    <style>\n",
              "      .colab-df-generate {\n",
              "        background-color: #E8F0FE;\n",
              "        border: none;\n",
              "        border-radius: 50%;\n",
              "        cursor: pointer;\n",
              "        display: none;\n",
              "        fill: #1967D2;\n",
              "        height: 32px;\n",
              "        padding: 0 0 0 0;\n",
              "        width: 32px;\n",
              "      }\n",
              "\n",
              "      .colab-df-generate:hover {\n",
              "        background-color: #E2EBFA;\n",
              "        box-shadow: 0px 1px 2px rgba(60, 64, 67, 0.3), 0px 1px 3px 1px rgba(60, 64, 67, 0.15);\n",
              "        fill: #174EA6;\n",
              "      }\n",
              "\n",
              "      [theme=dark] .colab-df-generate {\n",
              "        background-color: #3B4455;\n",
              "        fill: #D2E3FC;\n",
              "      }\n",
              "\n",
              "      [theme=dark] .colab-df-generate:hover {\n",
              "        background-color: #434B5C;\n",
              "        box-shadow: 0px 1px 3px 1px rgba(0, 0, 0, 0.15);\n",
              "        filter: drop-shadow(0px 1px 2px rgba(0, 0, 0, 0.3));\n",
              "        fill: #FFFFFF;\n",
              "      }\n",
              "    </style>\n",
              "    <button class=\"colab-df-generate\" onclick=\"generateWithVariable('result')\"\n",
              "            title=\"Generate code using this dataframe.\"\n",
              "            style=\"display:none;\">\n",
              "\n",
              "  <svg xmlns=\"http://www.w3.org/2000/svg\" height=\"24px\"viewBox=\"0 0 24 24\"\n",
              "       width=\"24px\">\n",
              "    <path d=\"M7,19H8.4L18.45,9,17,7.55,7,17.6ZM5,21V16.75L18.45,3.32a2,2,0,0,1,2.83,0l1.4,1.43a1.91,1.91,0,0,1,.58,1.4,1.91,1.91,0,0,1-.58,1.4L9.25,21ZM18.45,9,17,7.55Zm-12,3A5.31,5.31,0,0,0,4.9,8.1,5.31,5.31,0,0,0,1,6.5,5.31,5.31,0,0,0,4.9,4.9,5.31,5.31,0,0,0,6.5,1,5.31,5.31,0,0,0,8.1,4.9,5.31,5.31,0,0,0,12,6.5,5.46,5.46,0,0,0,6.5,12Z\"/>\n",
              "  </svg>\n",
              "    </button>\n",
              "    <script>\n",
              "      (() => {\n",
              "      const buttonEl =\n",
              "        document.querySelector('#id_48dd4b4c-7a00-4020-a9b7-cb3ee7e1f539 button.colab-df-generate');\n",
              "      buttonEl.style.display =\n",
              "        google.colab.kernel.accessAllowed ? 'block' : 'none';\n",
              "\n",
              "      buttonEl.onclick = () => {\n",
              "        google.colab.notebook.generateWithVariable('result');\n",
              "      }\n",
              "      })();\n",
              "    </script>\n",
              "  </div>\n",
              "\n",
              "    </div>\n",
              "  </div>\n"
            ],
            "application/vnd.google.colaboratory.intrinsic+json": {
              "type": "dataframe",
              "variable_name": "result",
              "summary": "{\n  \"name\": \"result\",\n  \"rows\": 1,\n  \"fields\": [\n    {\n      \"column\": \"Duration\",\n      \"properties\": {\n        \"dtype\": \"number\",\n        \"std\": null,\n        \"min\": 2.1089276898897724,\n        \"max\": 2.1089276898897724,\n        \"num_unique_values\": 1,\n        \"samples\": [\n          2.1089276898897724\n        ],\n        \"semantic_type\": \"\",\n        \"description\": \"\"\n      }\n    },\n    {\n      \"column\": \"SBPr\",\n      \"properties\": {\n        \"dtype\": \"number\",\n        \"std\": null,\n        \"min\": 3.1660301531904955,\n        \"max\": 3.1660301531904955,\n        \"num_unique_values\": 1,\n        \"samples\": [\n          3.1660301531904955\n        ],\n        \"semantic_type\": \"\",\n        \"description\": \"\"\n      }\n    },\n    {\n      \"column\": \"CNTR\",\n      \"properties\": {\n        \"dtype\": \"number\",\n        \"std\": null,\n        \"min\": 2.9887622766523676,\n        \"max\": 2.9887622766523676,\n        \"num_unique_values\": 1,\n        \"samples\": [\n          2.9887622766523676\n        ],\n        \"semantic_type\": \"\",\n        \"description\": \"\"\n      }\n    },\n    {\n      \"column\": \"IMFr\",\n      \"properties\": {\n        \"dtype\": \"number\",\n        \"std\": null,\n        \"min\": 1.5612362889585665,\n        \"max\": 1.5612362889585665,\n        \"num_unique_values\": 1,\n        \"samples\": [\n          1.5612362889585665\n        ],\n        \"semantic_type\": \"\",\n        \"description\": \"\"\n      }\n    },\n    {\n      \"column\": \"IMF1_rate\",\n      \"properties\": {\n        \"dtype\": \"number\",\n        \"std\": null,\n        \"min\": 4.7109291655955605,\n        \"max\": 4.7109291655955605,\n        \"num_unique_values\": 1,\n        \"samples\": [\n          4.7109291655955605\n        ],\n        \"semantic_type\": \"\",\n        \"description\": \"\"\n      }\n    },\n    {\n      \"column\": \"IMF2_rate\",\n      \"properties\": {\n        \"dtype\": \"number\",\n        \"std\": null,\n        \"min\": 2.519324339603747,\n        \"max\": 2.519324339603747,\n        \"num_unique_values\": 1,\n        \"samples\": [\n          2.519324339603747\n        ],\n        \"semantic_type\": \"\",\n        \"description\": \"\"\n      }\n    },\n    {\n      \"column\": \"IMF1_stability\",\n      \"properties\": {\n        \"dtype\": \"number\",\n        \"std\": null,\n        \"min\": 35.8293912188768,\n        \"max\": 35.8293912188768,\n        \"num_unique_values\": 1,\n        \"samples\": [\n          35.8293912188768\n        ],\n        \"semantic_type\": \"\",\n        \"description\": \"\"\n      }\n    },\n    {\n      \"column\": \"IMF2_stability\",\n      \"properties\": {\n        \"dtype\": \"number\",\n        \"std\": null,\n        \"min\": 5.028478988912294,\n        \"max\": 5.028478988912294,\n        \"num_unique_values\": 1,\n        \"samples\": [\n          5.028478988912294\n        ],\n        \"semantic_type\": \"\",\n        \"description\": \"\"\n      }\n    }\n  ]\n}"
            }
          },
          "metadata": {},
          "execution_count": 43
        }
      ],
      "source": [
        "# mean across all utterances\n",
        "result = metric_results.mean()\n",
        "result = pd.DataFrame(result).T\n",
        "result"
      ]
    },
    {
      "cell_type": "code",
      "execution_count": 44,
      "metadata": {
        "id": "3ASvbuw2FmoI",
        "colab": {
          "base_uri": "https://localhost:8080/"
        },
        "outputId": "87452a11-8a7d-40cf-96f0-0e872d0df7ae"
      },
      "outputs": [
        {
          "output_type": "execute_result",
          "data": {
            "text/plain": [
              "16"
            ]
          },
          "metadata": {},
          "execution_count": 44
        }
      ],
      "source": [
        "# #utterances\n",
        "len(metric_results)"
      ]
    },
    {
      "cell_type": "markdown",
      "metadata": {
        "id": "xEHYmF5SyouM"
      },
      "source": [
        "**Loop for all subject IDs**"
      ]
    },
    {
      "cell_type": "code",
      "execution_count": 45,
      "metadata": {
        "id": "1xj9-bwkyvYJ"
      },
      "outputs": [],
      "source": [
        "results_all = pd.DataFrame()"
      ]
    },
    {
      "cell_type": "code",
      "execution_count": 46,
      "metadata": {
        "id": "enrtKYYHz8QA"
      },
      "outputs": [],
      "source": [
        "def remove_outliers(IF):\n",
        "  upper = IF.mean() + 3*IF.std()\n",
        "  lower = IF.mean() - 3*IF.std()\n",
        "  IF_no = IF\n",
        "  for i in range(0,len(IF_no)):\n",
        "    if IF[i] > upper:\n",
        "      np.delete(IF_no,i, 0)\n",
        "    elif IF[i] < lower:\n",
        "      np.delete(IF_no,i,0)\n",
        "    else:\n",
        "      continue\n",
        "  return IF_no"
      ]
    },
    {
      "cell_type": "code",
      "execution_count": 48,
      "metadata": {
        "colab": {
          "base_uri": "https://localhost:8080/",
          "height": 369
        },
        "id": "YYt-nVP4yvOm",
        "collapsed": true,
        "outputId": "f9254a59-f562-4152-cbe1-c491895883c2"
      },
      "outputs": [
        {
          "output_type": "stream",
          "name": "stdout",
          "text": [
            "NF1032\n"
          ]
        },
        {
          "output_type": "error",
          "ename": "FileNotFoundError",
          "evalue": "[Errno 2] No such file or directory: 'NF1032_frog.wav'",
          "traceback": [
            "\u001b[0;31m---------------------------------------------------------------------------\u001b[0m",
            "\u001b[0;31mFileNotFoundError\u001b[0m                         Traceback (most recent call last)",
            "\u001b[0;32m<ipython-input-48-c47a9455c6be>\u001b[0m in \u001b[0;36m<cell line: 0>\u001b[0;34m()\u001b[0m\n\u001b[1;32m      7\u001b[0m         \u001b[0;31m# load soundfiles\u001b[0m\u001b[0;34m\u001b[0m\u001b[0;34m\u001b[0m\u001b[0m\n\u001b[1;32m      8\u001b[0m         \u001b[0msoundfiles\u001b[0m \u001b[0;34m=\u001b[0m \u001b[0mpd\u001b[0m\u001b[0;34m.\u001b[0m\u001b[0mDataFrame\u001b[0m\u001b[0;34m(\u001b[0m\u001b[0mcolumns\u001b[0m\u001b[0;34m=\u001b[0m\u001b[0;34m[\u001b[0m\u001b[0;34m'ID'\u001b[0m\u001b[0;34m,\u001b[0m \u001b[0;34m'Condition'\u001b[0m\u001b[0;34m,\u001b[0m \u001b[0;34m'Fs'\u001b[0m\u001b[0;34m,\u001b[0m \u001b[0;34m'wav'\u001b[0m\u001b[0;34m,\u001b[0m\u001b[0;34m't_wav'\u001b[0m\u001b[0;34m]\u001b[0m\u001b[0;34m)\u001b[0m\u001b[0;34m\u001b[0m\u001b[0;34m\u001b[0m\u001b[0m\n\u001b[0;32m----> 9\u001b[0;31m         \u001b[0mFs\u001b[0m\u001b[0;34m,\u001b[0m \u001b[0mwav\u001b[0m \u001b[0;34m=\u001b[0m \u001b[0mwavfile\u001b[0m\u001b[0;34m.\u001b[0m\u001b[0mread\u001b[0m\u001b[0;34m(\u001b[0m\u001b[0mID\u001b[0m \u001b[0;34m+\u001b[0m \u001b[0;34m'_'\u001b[0m \u001b[0;34m+\u001b[0m \u001b[0mcond\u001b[0m \u001b[0;34m+\u001b[0m \u001b[0;34m'.wav'\u001b[0m\u001b[0;34m)\u001b[0m\u001b[0;34m\u001b[0m\u001b[0;34m\u001b[0m\u001b[0m\n\u001b[0m\u001b[1;32m     10\u001b[0m         \u001b[0mwav\u001b[0m \u001b[0;34m=\u001b[0m \u001b[0mwav\u001b[0m\u001b[0;34m/\u001b[0m\u001b[0;36m100000\u001b[0m\u001b[0;34m\u001b[0m\u001b[0;34m\u001b[0m\u001b[0m\n\u001b[1;32m     11\u001b[0m         \u001b[0msoundfiles\u001b[0m \u001b[0;34m=\u001b[0m \u001b[0msoundfiles\u001b[0m\u001b[0;34m.\u001b[0m\u001b[0m_append\u001b[0m\u001b[0;34m(\u001b[0m\u001b[0;34m{\u001b[0m\u001b[0;34m'ID'\u001b[0m\u001b[0;34m:\u001b[0m \u001b[0mID\u001b[0m\u001b[0;34m,\u001b[0m \u001b[0;34m'Condition'\u001b[0m\u001b[0;34m:\u001b[0m \u001b[0mcond\u001b[0m\u001b[0;34m,\u001b[0m \u001b[0;34m'Fs'\u001b[0m\u001b[0;34m:\u001b[0m \u001b[0mFs\u001b[0m\u001b[0;34m,\u001b[0m \u001b[0;34m'wav'\u001b[0m\u001b[0;34m:\u001b[0m \u001b[0mwav\u001b[0m\u001b[0;34m}\u001b[0m\u001b[0;34m,\u001b[0m \u001b[0mignore_index\u001b[0m\u001b[0;34m=\u001b[0m\u001b[0;32mTrue\u001b[0m\u001b[0;34m)\u001b[0m\u001b[0;34m\u001b[0m\u001b[0;34m\u001b[0m\u001b[0m\n",
            "\u001b[0;32m/usr/local/lib/python3.11/dist-packages/scipy/io/wavfile.py\u001b[0m in \u001b[0;36mread\u001b[0;34m(filename, mmap)\u001b[0m\n\u001b[1;32m    645\u001b[0m         \u001b[0mmmap\u001b[0m \u001b[0;34m=\u001b[0m \u001b[0;32mFalse\u001b[0m\u001b[0;34m\u001b[0m\u001b[0;34m\u001b[0m\u001b[0m\n\u001b[1;32m    646\u001b[0m     \u001b[0;32melse\u001b[0m\u001b[0;34m:\u001b[0m\u001b[0;34m\u001b[0m\u001b[0;34m\u001b[0m\u001b[0m\n\u001b[0;32m--> 647\u001b[0;31m         \u001b[0mfid\u001b[0m \u001b[0;34m=\u001b[0m \u001b[0mopen\u001b[0m\u001b[0;34m(\u001b[0m\u001b[0mfilename\u001b[0m\u001b[0;34m,\u001b[0m \u001b[0;34m'rb'\u001b[0m\u001b[0;34m)\u001b[0m\u001b[0;34m\u001b[0m\u001b[0;34m\u001b[0m\u001b[0m\n\u001b[0m\u001b[1;32m    648\u001b[0m \u001b[0;34m\u001b[0m\u001b[0m\n\u001b[1;32m    649\u001b[0m     \u001b[0;32mtry\u001b[0m\u001b[0;34m:\u001b[0m\u001b[0;34m\u001b[0m\u001b[0;34m\u001b[0m\u001b[0m\n",
            "\u001b[0;31mFileNotFoundError\u001b[0m: [Errno 2] No such file or directory: 'NF1032_frog.wav'"
          ]
        }
      ],
      "source": [
        "IDs = [\"NF1032\",\t\"NF1082\",\t\"NF1092\",\t\"NF1114\"]\n",
        "conds = ['frog']\n",
        "\n",
        "for ID in IDs:\n",
        "    print(ID)\n",
        "    for cond in conds:\n",
        "        # load soundfiles\n",
        "        soundfiles = pd.DataFrame(columns=['ID', 'Condition', 'Fs', 'wav','t_wav'])\n",
        "        Fs, wav = wavfile.read(ID + '_' + cond + '.wav')\n",
        "        wav = wav/100000\n",
        "        soundfiles = soundfiles._append({'ID': ID, 'Condition': cond, 'Fs': Fs, 'wav': wav}, ignore_index=True)\n",
        "\n",
        "        # load phrases\n",
        "        phrases = pd.DataFrame(columns=['ID', 'Condition', 'Onset','Offset','Duration', 'FluencyStatus','Signal'])\n",
        "        names = []\n",
        "        conditions = []\n",
        "        duration = []\n",
        "        utterances = pd.read_csv(ID + '_' + cond + '.txt', header=None, sep='\\t')     # import txt\n",
        "        fluencies = pd.read_csv(ID + '_FS_' + cond +  '.csv')                         # import csv\n",
        "        names = list(np.repeat(ID, len(utterances)))                                  # ID column\n",
        "        conditions = list(np.repeat(cond, len(utterances)))                           # condition column\n",
        "        for k in range(len(utterances)):\n",
        "            duration.append(float(utterances[3][k]) - float(utterances[2][k]))        # duration column\n",
        "        participant = pd.DataFrame({'ID':names, 'Condition': conditions,'Onset': utterances[2], 'Offset': utterances[3], 'Duration':duration, 'FluencyStatus': fluencies['fluency status']})\n",
        "        phrases = pd.concat([phrases, participant], ignore_index=True)\n",
        "\n",
        "        get_duration = []\n",
        "        for i in range(len(phrases)):\n",
        "          if (phrases['Duration'][i] < 1.0) | (phrases['Duration'][i] > 3.0):\n",
        "            continue\n",
        "          else:\n",
        "            get_duration.append(phrases[\"Duration\"][i])\n",
        "\n",
        "        # compute time axis\n",
        "        for k in range(len(soundfiles)):\n",
        "          t_wav = []\n",
        "          for i in range(0,len(soundfiles['wav'][k])):\n",
        "            time = i/Fs\n",
        "            t_wav.append(time)\n",
        "          soundfiles['t_wav'][k] = t_wav\n",
        "\n",
        "        # find where utterance onset is in t_wav\n",
        "        def find_nearest(array, value):\n",
        "          array = np.asarray(array)\n",
        "          idx = (np.abs(array - value)).argmin()\n",
        "          return array[idx]\n",
        "\n",
        "        phrases_new = pd.DataFrame(columns=['ID', 'Condition', 'Onset','Offset','Duration', 'FluencyStatus','Signal'])\n",
        "        for cond in conds:\n",
        "          soundfiles_subset = soundfiles[soundfiles[\"Condition\"]==cond]\n",
        "          soundfiles_subset.index = range(len(soundfiles_subset.index))\n",
        "          phrases_subset = phrases[phrases[\"Condition\"]==cond]\n",
        "          phrases_subset.index = range(len(phrases_subset.index))\n",
        "          for i in range(len(phrases_subset)):\n",
        "            if phrases_subset['FluencyStatus'][i] == \"Disfluent\":\n",
        "              continue\n",
        "            else:\n",
        "              if (phrases_subset['Duration'][i] < 1.0) |  (phrases_subset['Duration'][i] > 3.0):\n",
        "                continue\n",
        "              else:\n",
        "                onset_time = find_nearest(soundfiles_subset['t_wav'][0], phrases_subset['Onset'][i])\n",
        "                offset_time = find_nearest(soundfiles_subset['t_wav'][0], phrases_subset['Offset'][i])\n",
        "                onset_idx = np.where(soundfiles_subset['t_wav'][0] == onset_time)\n",
        "                onset_idx = list(onset_idx[0])[0]\n",
        "                offset_idx = np.where(soundfiles_subset['t_wav'][0] == offset_time)\n",
        "                offset_idx = list(offset_idx[0])[0]\n",
        "                phrases_subset['Signal'][i] = list(soundfiles_subset['wav'][0][onset_idx:offset_idx])\n",
        "                phrases_new = phrases_new._append({'ID':ID, 'Condition': cond, 'Onset': phrases['Onset'][i],'Offset': phrases['Offset'][i],'Duration': phrases['Duration'][i],'FluencyStatus': phrases['FluencyStatus'][i],'Signal':list(soundfiles_subset['wav'][0][onset_idx:offset_idx])}, ignore_index=True)\n",
        "\n",
        "        # parameters\n",
        "        # bandpass filter\n",
        "        lower_cutoff = 400\n",
        "        upper_cutoff = 4000\n",
        "        order = 4\n",
        "        bp_b, bp_a = signal.butter(order, [lower_cutoff, upper_cutoff], 'bp', fs=Fs)\n",
        "\n",
        "        # syllabic filter\n",
        "        order = 4\n",
        "        cutoff = 10\n",
        "        syll_b, syll_a = signal.butter(order, cutoff, 'lp', fs=Fs)\n",
        "\n",
        "        # down-sample parameters\n",
        "        original_rate = 44100\n",
        "        new_rate = original_rate/100\n",
        "\n",
        "        # pre-processing\n",
        "        preprocessed_signals = pd.DataFrame(columns=['Duration', 'Signal'])\n",
        "        for i in range(len(phrases_new)):\n",
        "          wav_dc = phrases_new['Signal'][i] - (sum(phrases_new['Signal'][i])/len(phrases_new['Signal'][i]))       # remove DC frequency\n",
        "          filtered = signal.filtfilt(bp_b, bp_a, wav_dc)                            # bandpass filter\n",
        "          new_filtered = abs(filtered)                                              # get magnitude (power)\n",
        "          syll = signal.filtfilt(syll_b,syll_a, new_filtered)                       # apply syllabic filter\n",
        "          sig_dc = syll - syll.mean()                                               # remove DC frequency (again)\n",
        "          number_of_samples = round(len(sig_dc) * float(new_rate) /Fs)              # down-sample signal\n",
        "          sig_down = signal.resample(sig_dc, number_of_samples)                     # down-sample signal\n",
        "          avg2norm = (sum(sig_down))/len(sig_down)                                  # normalize\n",
        "          intermediate = sig_down - avg2norm                                        # normalize\n",
        "          norm_signal = intermediate/max(intermediate)                              # normalize\n",
        "          M = len(norm_signal)                                                      # construct Tukey\n",
        "          window = signal.windows.tukey(M, alpha = 0.2)                             # construct Tukey\n",
        "          wind_signal = window*norm_signal                                          # apply Tukey\n",
        "          preprocessed_signals = preprocessed_signals._append({'Duration': phrases_new['Duration'][i], 'Signal': wind_signal}, ignore_index=True)\n",
        "\n",
        "        # ESA\n",
        "        ESA_signals = pd.DataFrame(columns=['Duration', 'Signal','Time_Axis'])\n",
        "        for i in range(len(preprocessed_signals)):\n",
        "          power_2 = 2**12                                                         # zero-pad\n",
        "          to_add = int((power_2 - len(preprocessed_signals['Signal'][i])/2))\n",
        "          right = np.append(preprocessed_signals['Signal'][i], [0]*to_add)\n",
        "          left= np.insert(right, 0, [0]*to_add)\n",
        "          zero_pad = left\n",
        "          fourier = fft(zero_pad)                                                 # calculate amplitude spectrum\n",
        "          xf = np.fft.fftfreq(len(zero_pad), (1/new_rate))\n",
        "          power = (abs(fourier)**2)/len(fourier)                                  # get power\n",
        "          norm_spec = power*2                                                     # double positive frequencies\n",
        "          N = len(norm_spec)                                                      # cancel out negative frequencies\n",
        "          power = np.abs(norm_spec[0:N//2])\n",
        "          # adjust frequency axis\n",
        "          T = 1/new_rate\n",
        "          xf = fftfreq(N, T)[:N//2]\n",
        "          power_sym = np.concatenate((np.flipud(power), power, np.flipud(power))) # center spectrum over 0 and N\n",
        "          bin_size = 1                                                            # set parameters\n",
        "          L = round(len(zero_pad)*bin_size/new_rate)\n",
        "          smpsd = signal.lfilter((1/L)*np.ones(L),1,power_sym)                    # apply moving average\n",
        "          smpsd = smpsd[int((N/2)+1):int((N/2)+(N/2))]\n",
        "          ESA_signals = ESA_signals._append({'Duration': phrases_new['Duration'][i], 'Signal': smpsd,'Time_Axis': xf}, ignore_index=True)\n",
        "\n",
        "        # EMD\n",
        "        EMD_signals = pd.DataFrame(columns=['Duration', 'IMF1','IMF2', 'IA1','IA2'])\n",
        "        for i in range(len(preprocessed_signals)):\n",
        "          imf = emd.sift.sift(preprocessed_signals['Signal'][i], max_imfs=4)                        # extract IMFs\n",
        "          analytic_signal_1 = signal.hilbert(imf[:,0])                                              # Hilbert Transform\n",
        "          analytic_signal_2 = signal.hilbert(imf[:,1])\n",
        "          amplitude_envelope_1 = np.abs(analytic_signal_1)                                          # IA\n",
        "          amplitude_envelope_2 = np.abs(analytic_signal_2)\n",
        "          instantaneous_phase_1 = np.unwrap(np.angle(analytic_signal_1))                            # IP\n",
        "          instantaneous_phase_2 = np.unwrap(np.angle(analytic_signal_2))\n",
        "          instantaneous_frequency_1 = new_rate/(2.0 * np.pi) * np.gradient(instantaneous_phase_1)   # IF\n",
        "          instantaneous_frequency_2 = new_rate/(2.0 * np.pi) * np.gradient(instantaneous_phase_2)\n",
        "          IF_no_1 = remove_outliers(instantaneous_frequency_1)                                      # remove outliers\n",
        "          IF_no_2 = remove_outliers(instantaneous_frequency_2)\n",
        "          edge = round(new_rate/10)                                                                 # remove 100 ms from edges\n",
        "          instantaneous_frequency_1_processed = IF_no_1[edge:len(IF_no_1)-edge]                     # remove edges from IFs\n",
        "          instantaneous_frequency_2_processed = IF_no_2[edge:len(IF_no_2)-edge]\n",
        "          amplitude_envelope_1_processed = amplitude_envelope_1[edge:len(IF_no_1)-edge]             # remove edges from IAs\n",
        "          amplitude_envelope_2_processed = amplitude_envelope_2[edge:len(IF_no_2)-edge]\n",
        "          EMD_signals = EMD_signals._append({'Duration': phrases_new['Duration'][i], 'IMF1': instantaneous_frequency_1_processed, 'IMF2': instantaneous_frequency_2_processed, 'IA1': amplitude_envelope_1_processed , 'IA2': amplitude_envelope_2_processed}, ignore_index=True)\n",
        "\n",
        "        # compute metrics\n",
        "        metric_results = pd.DataFrame(columns=['Duration', 'SBPr','CNTR','IMFr','IMF1_rate','IMF2_rate','IMF1_stability','IMF2_stability','#'])\n",
        "        for i in range(len(ESA_signals)):\n",
        "          supra_idx = np.where((ESA_signals['Time_Axis'][i] >= 1) & (ESA_signals['Time_Axis'][i] <= 3.5))[0]                # Spectral Band Power Ratio\n",
        "          syll_idx = np.where((ESA_signals['Time_Axis'][i] > 3.5) & (ESA_signals['Time_Axis'][i] <= 10))[0]\n",
        "          supra_power = []\n",
        "          syll_power = []\n",
        "\n",
        "          for w in range(0,len(supra_idx)):\n",
        "            supra_power.append(ESA_signals['Signal'][i][supra_idx[w]])\n",
        "          supra = sum(supra_power)\n",
        "\n",
        "          for j in range(0,len(syll_idx)):\n",
        "            syll_power.append(ESA_signals['Signal'][i][syll_idx[j]])\n",
        "          syll = sum(syll_power)\n",
        "          SBR_3_0 = supra/syll\n",
        "\n",
        "          central_idx = np.where((ESA_signals['Time_Axis'][i] >= 1) & (ESA_signals['Time_Axis'][i] <= 10))[0]               # Envelope Spectral Centroid\n",
        "          current_sum = 0\n",
        "          for t in range(0,len(central_idx)):\n",
        "            current_sum = current_sum + (ESA_signals['Time_Axis'][i][central_idx[t]] * ESA_signals['Signal'][i][central_idx[t]])\n",
        "          power_sum = 0\n",
        "          for m in range(0,len(central_idx)):\n",
        "            power_sum = power_sum + ESA_signals['Signal'][i][central_idx[m]]\n",
        "          CNTR = current_sum/power_sum\n",
        "\n",
        "          imf1_power = []                                                 # IMF Ratio\n",
        "          imf2_power = []\n",
        "\n",
        "          for k in range(0,len(EMD_signals[\"IA1\"][i])): #IMF1\n",
        "            imf1_power.append(EMD_signals[\"IA1\"][i][k])\n",
        "          imf1 = sum(imf1_power)\n",
        "\n",
        "          for j in range(0,len(EMD_signals[\"IA2\"][i])):\n",
        "            imf2_power.append(EMD_signals[\"IA2\"][i][j])\n",
        "          imf2 = sum(imf2_power)\n",
        "          IMFr = imf2/imf1\n",
        "\n",
        "          IMF1_rate = sum(EMD_signals[\"IMF1\"][i])/len(EMD_signals[\"IMF1\"][i])                         # IMF1 Rate\n",
        "          IMF2_rate = sum(EMD_signals[\"IMF2\"][i])/len(EMD_signals[\"IMF2\"][i])                         # IMF2 Rate\n",
        "\n",
        "          IMF1_stab = statistics.variance(EMD_signals[\"IMF1\"][i])                      # IMF1 Stability\n",
        "          IMF2_stab = statistics.variance(EMD_signals[\"IMF2\"][i])                      # IMF2 Stability\n",
        "\n",
        "          metric_results = metric_results._append({'Duration': phrases_new['Duration'][i], 'SBPr': SBR_3_0,'CNTR': CNTR,'IMFr': IMFr,'IMF1_rate': IMF1_rate,'IMF2_rate': IMF2_rate,'IMF1_stability': IMF1_stab,'IMF2_stability':IMF2_stab,'#':len(ESA_signals)}, ignore_index = True)\n",
        "\n",
        "        result = metric_results.mean()\n",
        "        result = pd.DataFrame(result).T\n",
        "        results_all = pd.concat([results_all, result])\n",
        "\n",
        "results_all"
      ]
    }
  ],
  "metadata": {
    "colab": {
      "provenance": [],
      "authorship_tag": "ABX9TyN72FqEzT93v1rKOAopoE6u",
      "include_colab_link": true
    },
    "kernelspec": {
      "display_name": "Python 3",
      "name": "python3"
    },
    "language_info": {
      "name": "python"
    }
  },
  "nbformat": 4,
  "nbformat_minor": 0
}